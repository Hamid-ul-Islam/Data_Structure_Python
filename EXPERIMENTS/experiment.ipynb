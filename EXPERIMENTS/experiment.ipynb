{
 "cells": [
  {
   "cell_type": "code",
   "execution_count": 17,
   "id": "6c02d073-e23c-4ef3-b13d-ded968852b3a",
   "metadata": {},
   "outputs": [],
   "source": [
    "#integer or not integer check\n",
    "def isInt(n):\n",
    "    try:\n",
    "        n- 0\n",
    "        return True\n",
    "    except:\n",
    "        return False"
   ]
  },
  {
   "cell_type": "code",
   "execution_count": 18,
   "id": "5692b665-15d2-452b-984b-f0af6bdb56a2",
   "metadata": {},
   "outputs": [
    {
     "data": {
      "text/plain": [
       "True"
      ]
     },
     "execution_count": 18,
     "metadata": {},
     "output_type": "execute_result"
    }
   ],
   "source": [
    "isInt(5)"
   ]
  },
  {
   "cell_type": "code",
   "execution_count": 19,
   "id": "8347aa2c-7724-469c-a0ef-a04c57901432",
   "metadata": {},
   "outputs": [
    {
     "data": {
      "text/plain": [
       "False"
      ]
     },
     "execution_count": 19,
     "metadata": {},
     "output_type": "execute_result"
    }
   ],
   "source": [
    "isInt(\"s\")"
   ]
  },
  {
   "cell_type": "code",
   "execution_count": 20,
   "id": "3f6297fe-9d1e-4267-a34a-d3f6d5fa3458",
   "metadata": {},
   "outputs": [
    {
     "data": {
      "text/plain": [
       "False"
      ]
     },
     "execution_count": 20,
     "metadata": {},
     "output_type": "execute_result"
    }
   ],
   "source": [
    "isInt(\"5\")"
   ]
  },
  {
   "cell_type": "code",
   "execution_count": 7,
   "id": "197a34d3-a5bc-4c08-87c6-9711349f269c",
   "metadata": {
    "editable": true,
    "slideshow": {
     "slide_type": ""
    },
    "tags": []
   },
   "outputs": [
    {
     "name": "stdout",
     "output_type": "stream",
     "text": [
      "0 5\n",
      "1 10\n",
      "2 20\n",
      "3 40\n"
     ]
    }
   ],
   "source": [
    "#enumerate\n",
    "l = [5, 10, 20, 40]\n",
    "for i, j in enumerate(l):\n",
    "    print(i, j)"
   ]
  },
  {
   "cell_type": "code",
   "execution_count": 10,
   "id": "afda3fae-d1e8-4c7a-a229-2a7c049f0058",
   "metadata": {},
   "outputs": [
    {
     "data": {
      "text/plain": [
       "97"
      ]
     },
     "execution_count": 10,
     "metadata": {},
     "output_type": "execute_result"
    }
   ],
   "source": [
    "#hashmap implementation\n",
    "ord(\"a\")"
   ]
  },
  {
   "cell_type": "code",
   "execution_count": 11,
   "id": "0cfe0dd8-4e33-4c2a-9b22-bc19e23274ab",
   "metadata": {},
   "outputs": [
    {
     "data": {
      "text/plain": [
       "[None, None, None, None, None, None, None, None, None, None]"
      ]
     },
     "execution_count": 11,
     "metadata": {},
     "output_type": "execute_result"
    }
   ],
   "source": [
    "[None] * 10"
   ]
  },
  {
   "cell_type": "code",
   "execution_count": null,
   "id": "b5634dcf-e199-4286-be3d-06f10f0d7e28",
   "metadata": {},
   "outputs": [],
   "source": []
  }
 ],
 "metadata": {
  "kernelspec": {
   "display_name": "Python 3 (ipykernel)",
   "language": "python",
   "name": "python3"
  },
  "language_info": {
   "codemirror_mode": {
    "name": "ipython",
    "version": 3
   },
   "file_extension": ".py",
   "mimetype": "text/x-python",
   "name": "python",
   "nbconvert_exporter": "python",
   "pygments_lexer": "ipython3",
   "version": "3.12.1"
  }
 },
 "nbformat": 4,
 "nbformat_minor": 5
}
