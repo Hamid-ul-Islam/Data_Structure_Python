{
 "cells": [
  {
   "cell_type": "code",
   "execution_count": 17,
   "id": "6c02d073-e23c-4ef3-b13d-ded968852b3a",
   "metadata": {},
   "outputs": [],
   "source": [
    "#integer or not integer check\n",
    "def isInt(n):\n",
    "    try:\n",
    "        n- 0\n",
    "        return True\n",
    "    except:\n",
    "        return False"
   ]
  },
  {
   "cell_type": "code",
   "execution_count": 18,
   "id": "5692b665-15d2-452b-984b-f0af6bdb56a2",
   "metadata": {},
   "outputs": [
    {
     "data": {
      "text/plain": [
       "True"
      ]
     },
     "execution_count": 18,
     "metadata": {},
     "output_type": "execute_result"
    }
   ],
   "source": [
    "isInt(5)"
   ]
  },
  {
   "cell_type": "code",
   "execution_count": 19,
   "id": "8347aa2c-7724-469c-a0ef-a04c57901432",
   "metadata": {},
   "outputs": [
    {
     "data": {
      "text/plain": [
       "False"
      ]
     },
     "execution_count": 19,
     "metadata": {},
     "output_type": "execute_result"
    }
   ],
   "source": [
    "isInt(\"s\")"
   ]
  },
  {
   "cell_type": "code",
   "execution_count": 20,
   "id": "3f6297fe-9d1e-4267-a34a-d3f6d5fa3458",
   "metadata": {},
   "outputs": [
    {
     "data": {
      "text/plain": [
       "False"
      ]
     },
     "execution_count": 20,
     "metadata": {},
     "output_type": "execute_result"
    }
   ],
   "source": [
    "isInt(\"5\")"
   ]
  },
  {
   "cell_type": "code",
   "execution_count": 12,
   "id": "197a34d3-a5bc-4c08-87c6-9711349f269c",
   "metadata": {
    "editable": true,
    "slideshow": {
     "slide_type": ""
    },
    "tags": []
   },
   "outputs": [
    {
     "name": "stdout",
     "output_type": "stream",
     "text": [
      "0 5\n",
      "1 10\n",
      "2 20\n",
      "3 40\n"
     ]
    }
   ],
   "source": [
    "#enumerate\n",
    "l = [5, 10, 20, 40]\n",
    "for i, j in enumerate(l):\n",
    "    print(i, j)"
   ]
  },
  {
   "cell_type": "code",
   "execution_count": 18,
   "id": "e4f48ebe-95cf-4618-9efb-3e18bd19e77c",
   "metadata": {},
   "outputs": [],
   "source": [
    "#hashmap\n",
    "class Node:\n",
    "    def __init__(self, key, value):\n",
    "        self.key = key\n",
    "        self.value = value\n",
    "        self.next = None\n",
    "\n",
    "class HashMap:\n",
    "    def __init__(self, size):\n",
    "        self.size = size\n",
    "        self.buckets = [None] * size\n",
    "\n",
    "    def hash(self, key):\n",
    "        return hash(key) % self.size\n",
    "\n",
    "    def insert(self, key, value):\n",
    "        index = self.hash(key)\n",
    "        if not self.buckets[index]:\n",
    "            self.buckets[index] = Node(key, value)\n",
    "        else:\n",
    "            current = self.buckets[index]\n",
    "            while current.next:\n",
    "                if current.key == key:\n",
    "                    current.value = value\n",
    "                    return\n",
    "                current = current.next\n",
    "            current.next = Node(key, value)\n",
    "\n",
    "    def get(self, key):\n",
    "        idx = self.hash(key)\n",
    "        current = self.buckets[idx]\n",
    "        while current:\n",
    "            if current.key == key:\n",
    "                return current.value\n",
    "            current = current.next\n",
    "        return None"
   ]
  },
  {
   "cell_type": "code",
   "execution_count": 26,
   "id": "a609a18e-4178-4201-8289-fc3f638d2b78",
   "metadata": {},
   "outputs": [],
   "source": [
    "#making hashmap of size 10\n",
    "map = HashMap(10)"
   ]
  },
  {
   "cell_type": "code",
   "execution_count": 50,
   "id": "f322658b-115a-4231-840b-b608b4a98bc5",
   "metadata": {},
   "outputs": [],
   "source": [
    "map.insert(\"ab\", 10)\n",
    "map.insert(\"ba\", 11)"
   ]
  },
  {
   "cell_type": "code",
   "execution_count": 54,
   "id": "05ed09f8-560d-430c-876c-dd87c00fe95a",
   "metadata": {},
   "outputs": [
    {
     "name": "stdout",
     "output_type": "stream",
     "text": [
      "10\n",
      "11\n"
     ]
    }
   ],
   "source": [
    "print(map.get(\"ab\"))\n",
    "print(map.get(\"ba\"))"
   ]
  },
  {
   "cell_type": "code",
   "execution_count": null,
   "id": "e4a13a42-7e47-43af-ac0a-22e48c77b2a6",
   "metadata": {},
   "outputs": [],
   "source": []
  }
 ],
 "metadata": {
  "kernelspec": {
   "display_name": "Python 3 (ipykernel)",
   "language": "python",
   "name": "python3"
  },
  "language_info": {
   "codemirror_mode": {
    "name": "ipython",
    "version": 3
   },
   "file_extension": ".py",
   "mimetype": "text/x-python",
   "name": "python",
   "nbconvert_exporter": "python",
   "pygments_lexer": "ipython3",
   "version": "3.12.1"
  }
 },
 "nbformat": 4,
 "nbformat_minor": 5
}
